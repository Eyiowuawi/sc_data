{
  "nbformat": 4,
  "nbformat_minor": 0,
  "metadata": {
    "colab": {
      "name": "ENCODE_MAPPING.ipynb",
      "provenance": []
    },
    "kernelspec": {
      "name": "python3",
      "display_name": "Python 3"
    }
  },
  "cells": [
    {
      "cell_type": "code",
      "metadata": {
        "id": "JdaUTSendjWP",
        "colab": {
          "base_uri": "https://localhost:8080/",
          "height": 71
        },
        "outputId": "72c811d7-1cd7-4e09-916e-49b6cdd0d1d3"
      },
      "source": [
        "import pandas as pd\n",
        "import numpy as np\n",
        "import seaborn as sns\n",
        "import matplotlib.pyplot as plt\n",
        "%matplotlib inline"
      ],
      "execution_count": null,
      "outputs": [
        {
          "output_type": "stream",
          "text": [
            "/usr/local/lib/python3.6/dist-packages/statsmodels/tools/_testing.py:19: FutureWarning: pandas.util.testing is deprecated. Use the functions in the public API at pandas.testing instead.\n",
            "  import pandas.util.testing as tm\n"
          ],
          "name": "stderr"
        }
      ]
    },
    {
      "cell_type": "code",
      "metadata": {
        "id": "Rk9W0ksMeBHY"
      },
      "source": [
        "lnc = pd.read_csv('all_lnc_mart.tsv', sep='\\t')\n",
        "cmp = pd.read_csv('ENCFF665SNR.tsv', sep='\\t')\n",
        "gmp = pd.read_csv('ENCFF161ZIN.tsv', sep='\\t')\n",
        "hsc = pd.read_csv('ENCFF124EPS.tsv', sep='\\t')"
      ],
      "execution_count": null,
      "outputs": []
    },
    {
      "cell_type": "code",
      "metadata": {
        "id": "xYmPdVZvez8R",
        "colab": {
          "base_uri": "https://localhost:8080/",
          "height": 340
        },
        "outputId": "a4c74325-5477-4e65-f2e9-ef95927bb8b9"
      },
      "source": [
        "print(cmp.columns)\n",
        "print(gmp.columns)\n",
        "print(hsc.columns)\n",
        "print(lnc.columns)"
      ],
      "execution_count": null,
      "outputs": [
        {
          "output_type": "stream",
          "text": [
            "Index(['transcript_id', 'gene_id', 'length', 'effective_length',\n",
            "       'expected_count', 'TPM', 'FPKM', 'IsoPct', 'posterior_mean_count',\n",
            "       'posterior_standard_deviation_of_count', 'pme_TPM', 'pme_FPKM',\n",
            "       'IsoPct_from_pme_TPM', 'TPM_ci_lower_bound', 'TPM_ci_upper_bound',\n",
            "       'FPKM_ci_lower_bound', 'FPKM_ci_upper_bound'],\n",
            "      dtype='object')\n",
            "Index(['transcript_id', 'gene_id', 'length', 'effective_length',\n",
            "       'expected_count', 'TPM', 'FPKM', 'IsoPct', 'posterior_mean_count',\n",
            "       'posterior_standard_deviation_of_count', 'pme_TPM', 'pme_FPKM',\n",
            "       'IsoPct_from_pme_TPM', 'TPM_ci_lower_bound', 'TPM_ci_upper_bound',\n",
            "       'FPKM_ci_lower_bound', 'FPKM_ci_upper_bound'],\n",
            "      dtype='object')\n",
            "Index(['transcript_id', 'gene_id', 'length', 'effective_length',\n",
            "       'expected_count', 'TPM', 'FPKM', 'IsoPct', 'posterior_mean_count',\n",
            "       'posterior_standard_deviation_of_count', 'pme_TPM', 'pme_FPKM',\n",
            "       'IsoPct_from_pme_TPM', 'TPM_ci_lower_bound', 'TPM_ci_upper_bound',\n",
            "       'FPKM_ci_lower_bound', 'FPKM_ci_upper_bound'],\n",
            "      dtype='object')\n",
            "Index(['Transcript stable ID version', 'Gene stable ID version'], dtype='object')\n"
          ],
          "name": "stdout"
        }
      ]
    },
    {
      "cell_type": "code",
      "metadata": {
        "id": "BABsMX_sfkVP",
        "colab": {
          "base_uri": "https://localhost:8080/",
          "height": 34
        },
        "outputId": "b74181bf-5340-41a6-dfd0-103c6ab2db7b"
      },
      "source": [
        "lnc.columns = ['transcript_id', 'gene_id']\n",
        "lnc.columns"
      ],
      "execution_count": null,
      "outputs": [
        {
          "output_type": "execute_result",
          "data": {
            "text/plain": [
              "Index(['transcript_id', 'gene_id'], dtype='object')"
            ]
          },
          "metadata": {
            "tags": []
          },
          "execution_count": 4
        }
      ]
    },
    {
      "cell_type": "code",
      "metadata": {
        "id": "yeCHn8qff1qP"
      },
      "source": [
        "df_cmp = cmp[['transcript_id', 'gene_id', 'length', 'effective_length',\n",
        "       'expected_count', 'TPM', 'FPKM' ]]\n",
        "\n",
        "df_gmp = gmp[['transcript_id', 'gene_id', 'length', 'effective_length',\n",
        "       'expected_count', 'TPM', 'FPKM']]\n",
        "    \n",
        "df_hsc = hsc[['transcript_id', 'gene_id', 'length', 'effective_length',\n",
        "       'expected_count', 'TPM', 'FPKM']]"
      ],
      "execution_count": null,
      "outputs": []
    },
    {
      "cell_type": "code",
      "metadata": {
        "id": "XUiW404pf4UF"
      },
      "source": [
        "df_cmp = pd.merge(lnc, df_cmp, on= 'transcript_id')\n",
        "df_gmp = pd.merge(lnc, df_gmp, on= 'transcript_id')\n",
        "df_hsc = pd.merge(lnc, df_hsc, on= 'transcript_id')"
      ],
      "execution_count": null,
      "outputs": []
    },
    {
      "cell_type": "code",
      "metadata": {
        "id": "ZppfbYexg4Hn",
        "colab": {
          "base_uri": "https://localhost:8080/",
          "height": 68
        },
        "outputId": "78a30e64-69c2-4859-a4b2-ef80356298f3"
      },
      "source": [
        "print(df_cmp.shape)\n",
        "print(df_gmp.shape)\n",
        "print(df_hsc.shape)"
      ],
      "execution_count": null,
      "outputs": [
        {
          "output_type": "stream",
          "text": [
            "(2920, 8)\n",
            "(2920, 8)\n",
            "(2920, 8)\n"
          ],
          "name": "stdout"
        }
      ]
    },
    {
      "cell_type": "code",
      "metadata": {
        "id": "qR0QuQiN5f35",
        "colab": {
          "base_uri": "https://localhost:8080/",
          "height": 255
        },
        "outputId": "0d857ee5-86ae-48fc-d965-b4a0130e6283"
      },
      "source": [
        "df_cmp.sample(6)"
      ],
      "execution_count": null,
      "outputs": [
        {
          "output_type": "execute_result",
          "data": {
            "text/html": [
              "<div>\n",
              "<style scoped>\n",
              "    .dataframe tbody tr th:only-of-type {\n",
              "        vertical-align: middle;\n",
              "    }\n",
              "\n",
              "    .dataframe tbody tr th {\n",
              "        vertical-align: top;\n",
              "    }\n",
              "\n",
              "    .dataframe thead th {\n",
              "        text-align: right;\n",
              "    }\n",
              "</style>\n",
              "<table border=\"1\" class=\"dataframe\">\n",
              "  <thead>\n",
              "    <tr style=\"text-align: right;\">\n",
              "      <th></th>\n",
              "      <th>transcript_id</th>\n",
              "      <th>gene_id_x</th>\n",
              "      <th>gene_id_y</th>\n",
              "      <th>length</th>\n",
              "      <th>effective_length</th>\n",
              "      <th>expected_count</th>\n",
              "      <th>TPM</th>\n",
              "      <th>FPKM</th>\n",
              "    </tr>\n",
              "  </thead>\n",
              "  <tbody>\n",
              "    <tr>\n",
              "      <th>2677</th>\n",
              "      <td>ENSMUST00000193926.1</td>\n",
              "      <td>ENSMUSG00000103998.1</td>\n",
              "      <td>ENSMUSG00000103998.1</td>\n",
              "      <td>2308</td>\n",
              "      <td>2093.36</td>\n",
              "      <td>0.0</td>\n",
              "      <td>0.00</td>\n",
              "      <td>0.00</td>\n",
              "    </tr>\n",
              "    <tr>\n",
              "      <th>830</th>\n",
              "      <td>ENSMUST00000131533.1</td>\n",
              "      <td>ENSMUSG00000087422.1</td>\n",
              "      <td>ENSMUSG00000087422.1</td>\n",
              "      <td>657</td>\n",
              "      <td>442.38</td>\n",
              "      <td>0.0</td>\n",
              "      <td>0.00</td>\n",
              "      <td>0.00</td>\n",
              "    </tr>\n",
              "    <tr>\n",
              "      <th>1111</th>\n",
              "      <td>ENSMUST00000127709.1</td>\n",
              "      <td>ENSMUSG00000086371.1</td>\n",
              "      <td>ENSMUSG00000086371.1</td>\n",
              "      <td>353</td>\n",
              "      <td>141.64</td>\n",
              "      <td>0.0</td>\n",
              "      <td>0.00</td>\n",
              "      <td>0.00</td>\n",
              "    </tr>\n",
              "    <tr>\n",
              "      <th>2758</th>\n",
              "      <td>ENSMUST00000162697.1</td>\n",
              "      <td>ENSMUSG00000090086.7</td>\n",
              "      <td>ENSMUSG00000090086.3</td>\n",
              "      <td>410</td>\n",
              "      <td>196.54</td>\n",
              "      <td>8.0</td>\n",
              "      <td>0.53</td>\n",
              "      <td>1.45</td>\n",
              "    </tr>\n",
              "    <tr>\n",
              "      <th>2467</th>\n",
              "      <td>ENSMUST00000144294.1</td>\n",
              "      <td>ENSMUSG00000087369.1</td>\n",
              "      <td>ENSMUSG00000087369.1</td>\n",
              "      <td>3976</td>\n",
              "      <td>3761.36</td>\n",
              "      <td>0.0</td>\n",
              "      <td>0.00</td>\n",
              "      <td>0.00</td>\n",
              "    </tr>\n",
              "    <tr>\n",
              "      <th>1315</th>\n",
              "      <td>ENSMUST00000181143.1</td>\n",
              "      <td>ENSMUSG00000097871.1</td>\n",
              "      <td>ENSMUSG00000097871.1</td>\n",
              "      <td>876</td>\n",
              "      <td>661.36</td>\n",
              "      <td>0.0</td>\n",
              "      <td>0.00</td>\n",
              "      <td>0.00</td>\n",
              "    </tr>\n",
              "  </tbody>\n",
              "</table>\n",
              "</div>"
            ],
            "text/plain": [
              "             transcript_id             gene_id_x  ...   TPM  FPKM\n",
              "2677  ENSMUST00000193926.1  ENSMUSG00000103998.1  ...  0.00  0.00\n",
              "830   ENSMUST00000131533.1  ENSMUSG00000087422.1  ...  0.00  0.00\n",
              "1111  ENSMUST00000127709.1  ENSMUSG00000086371.1  ...  0.00  0.00\n",
              "2758  ENSMUST00000162697.1  ENSMUSG00000090086.7  ...  0.53  1.45\n",
              "2467  ENSMUST00000144294.1  ENSMUSG00000087369.1  ...  0.00  0.00\n",
              "1315  ENSMUST00000181143.1  ENSMUSG00000097871.1  ...  0.00  0.00\n",
              "\n",
              "[6 rows x 8 columns]"
            ]
          },
          "metadata": {
            "tags": []
          },
          "execution_count": 8
        }
      ]
    },
    {
      "cell_type": "code",
      "metadata": {
        "id": "RIiY4vpNVrNG",
        "colab": {
          "base_uri": "https://localhost:8080/",
          "height": 34
        },
        "outputId": "4c542878-b7e1-466d-df86-53d815df6dde"
      },
      "source": [
        "countSum = np.sum(df_cmp['expected_count']) \n",
        "type((1/countSum).astype('int64'))"
      ],
      "execution_count": null,
      "outputs": [
        {
          "output_type": "execute_result",
          "data": {
            "text/plain": [
              "numpy.int64"
            ]
          },
          "metadata": {
            "tags": []
          },
          "execution_count": 9
        }
      ]
    },
    {
      "cell_type": "code",
      "metadata": {
        "id": "z0vcBwpohS4D"
      },
      "source": [
        "def cpmCalc(df):\n",
        "  countSum = np.sum(df['expected_count']) \n",
        "  df['CPM'] = np.multiply(1/countSum, 1000000*df['expected_count'])\n",
        "\n",
        "  return df"
      ],
      "execution_count": null,
      "outputs": []
    },
    {
      "cell_type": "code",
      "metadata": {
        "id": "e2ClEqfHlm8X",
        "colab": {
          "base_uri": "https://localhost:8080/",
          "height": 439
        },
        "outputId": "e0a3db29-10a2-4e3c-b90c-6dfcf7fbac82"
      },
      "source": [
        "cpmCalc(df_cmp)\n",
        "cpmCalc(df_gmp)\n",
        "cpmCalc(df_hsc)"
      ],
      "execution_count": null,
      "outputs": [
        {
          "output_type": "execute_result",
          "data": {
            "text/html": [
              "<div>\n",
              "<style scoped>\n",
              "    .dataframe tbody tr th:only-of-type {\n",
              "        vertical-align: middle;\n",
              "    }\n",
              "\n",
              "    .dataframe tbody tr th {\n",
              "        vertical-align: top;\n",
              "    }\n",
              "\n",
              "    .dataframe thead th {\n",
              "        text-align: right;\n",
              "    }\n",
              "</style>\n",
              "<table border=\"1\" class=\"dataframe\">\n",
              "  <thead>\n",
              "    <tr style=\"text-align: right;\">\n",
              "      <th></th>\n",
              "      <th>transcript_id</th>\n",
              "      <th>gene_id_x</th>\n",
              "      <th>gene_id_y</th>\n",
              "      <th>length</th>\n",
              "      <th>effective_length</th>\n",
              "      <th>expected_count</th>\n",
              "      <th>TPM</th>\n",
              "      <th>FPKM</th>\n",
              "      <th>CPM</th>\n",
              "    </tr>\n",
              "  </thead>\n",
              "  <tbody>\n",
              "    <tr>\n",
              "      <th>0</th>\n",
              "      <td>ENSMUST00000101402.4</td>\n",
              "      <td>ENSMUSG00000118645.1</td>\n",
              "      <td>ENSMUSG00000073072.5</td>\n",
              "      <td>480</td>\n",
              "      <td>288.28</td>\n",
              "      <td>0.00</td>\n",
              "      <td>0.00</td>\n",
              "      <td>0.00</td>\n",
              "      <td>0.000000</td>\n",
              "    </tr>\n",
              "    <tr>\n",
              "      <th>1</th>\n",
              "      <td>ENSMUST00000192648.1</td>\n",
              "      <td>ENSMUSG00000102545.1</td>\n",
              "      <td>ENSMUSG00000102545.1</td>\n",
              "      <td>597</td>\n",
              "      <td>405.06</td>\n",
              "      <td>0.00</td>\n",
              "      <td>0.00</td>\n",
              "      <td>0.00</td>\n",
              "      <td>0.000000</td>\n",
              "    </tr>\n",
              "    <tr>\n",
              "      <th>2</th>\n",
              "      <td>ENSMUST00000195547.1</td>\n",
              "      <td>ENSMUSG00000102545.1</td>\n",
              "      <td>ENSMUSG00000102545.1</td>\n",
              "      <td>2457</td>\n",
              "      <td>2265.02</td>\n",
              "      <td>14.81</td>\n",
              "      <td>0.08</td>\n",
              "      <td>0.23</td>\n",
              "      <td>45.216640</td>\n",
              "    </tr>\n",
              "    <tr>\n",
              "      <th>3</th>\n",
              "      <td>ENSMUST00000192562.1</td>\n",
              "      <td>ENSMUSG00000102545.1</td>\n",
              "      <td>ENSMUSG00000102545.1</td>\n",
              "      <td>508</td>\n",
              "      <td>316.18</td>\n",
              "      <td>1.19</td>\n",
              "      <td>0.04</td>\n",
              "      <td>0.14</td>\n",
              "      <td>3.633207</td>\n",
              "    </tr>\n",
              "    <tr>\n",
              "      <th>4</th>\n",
              "      <td>ENSMUST00000185283.1</td>\n",
              "      <td>ENSMUSG00000099945.1</td>\n",
              "      <td>ENSMUSG00000099945.1</td>\n",
              "      <td>2061</td>\n",
              "      <td>1869.02</td>\n",
              "      <td>0.00</td>\n",
              "      <td>0.00</td>\n",
              "      <td>0.00</td>\n",
              "      <td>0.000000</td>\n",
              "    </tr>\n",
              "    <tr>\n",
              "      <th>...</th>\n",
              "      <td>...</td>\n",
              "      <td>...</td>\n",
              "      <td>...</td>\n",
              "      <td>...</td>\n",
              "      <td>...</td>\n",
              "      <td>...</td>\n",
              "      <td>...</td>\n",
              "      <td>...</td>\n",
              "      <td>...</td>\n",
              "    </tr>\n",
              "    <tr>\n",
              "      <th>2915</th>\n",
              "      <td>ENSMUST00000156209.1</td>\n",
              "      <td>ENSMUSG00000086302.1</td>\n",
              "      <td>ENSMUSG00000086302.1</td>\n",
              "      <td>473</td>\n",
              "      <td>281.31</td>\n",
              "      <td>0.00</td>\n",
              "      <td>0.00</td>\n",
              "      <td>0.00</td>\n",
              "      <td>0.000000</td>\n",
              "    </tr>\n",
              "    <tr>\n",
              "      <th>2916</th>\n",
              "      <td>ENSMUST00000186771.1</td>\n",
              "      <td>ENSMUSG00000101782.1</td>\n",
              "      <td>ENSMUSG00000101782.1</td>\n",
              "      <td>1502</td>\n",
              "      <td>1310.02</td>\n",
              "      <td>0.00</td>\n",
              "      <td>0.00</td>\n",
              "      <td>0.00</td>\n",
              "      <td>0.000000</td>\n",
              "    </tr>\n",
              "    <tr>\n",
              "      <th>2917</th>\n",
              "      <td>ENSMUST00000185396.1</td>\n",
              "      <td>ENSMUSG00000101782.1</td>\n",
              "      <td>ENSMUSG00000101782.1</td>\n",
              "      <td>438</td>\n",
              "      <td>246.56</td>\n",
              "      <td>0.00</td>\n",
              "      <td>0.00</td>\n",
              "      <td>0.00</td>\n",
              "      <td>0.000000</td>\n",
              "    </tr>\n",
              "    <tr>\n",
              "      <th>2918</th>\n",
              "      <td>ENSMUST00000174440.1</td>\n",
              "      <td>ENSMUSG00000092242.1</td>\n",
              "      <td>ENSMUSG00000092242.1</td>\n",
              "      <td>4824</td>\n",
              "      <td>4632.02</td>\n",
              "      <td>0.00</td>\n",
              "      <td>0.00</td>\n",
              "      <td>0.00</td>\n",
              "      <td>0.000000</td>\n",
              "    </tr>\n",
              "    <tr>\n",
              "      <th>2919</th>\n",
              "      <td>ENSMUST00000136456.1</td>\n",
              "      <td>ENSMUSG00000087674.7</td>\n",
              "      <td>ENSMUSG00000087674.3</td>\n",
              "      <td>777</td>\n",
              "      <td>585.02</td>\n",
              "      <td>0.00</td>\n",
              "      <td>0.00</td>\n",
              "      <td>0.00</td>\n",
              "      <td>0.000000</td>\n",
              "    </tr>\n",
              "  </tbody>\n",
              "</table>\n",
              "<p>2920 rows × 9 columns</p>\n",
              "</div>"
            ],
            "text/plain": [
              "             transcript_id             gene_id_x  ...  FPKM        CPM\n",
              "0     ENSMUST00000101402.4  ENSMUSG00000118645.1  ...  0.00   0.000000\n",
              "1     ENSMUST00000192648.1  ENSMUSG00000102545.1  ...  0.00   0.000000\n",
              "2     ENSMUST00000195547.1  ENSMUSG00000102545.1  ...  0.23  45.216640\n",
              "3     ENSMUST00000192562.1  ENSMUSG00000102545.1  ...  0.14   3.633207\n",
              "4     ENSMUST00000185283.1  ENSMUSG00000099945.1  ...  0.00   0.000000\n",
              "...                    ...                   ...  ...   ...        ...\n",
              "2915  ENSMUST00000156209.1  ENSMUSG00000086302.1  ...  0.00   0.000000\n",
              "2916  ENSMUST00000186771.1  ENSMUSG00000101782.1  ...  0.00   0.000000\n",
              "2917  ENSMUST00000185396.1  ENSMUSG00000101782.1  ...  0.00   0.000000\n",
              "2918  ENSMUST00000174440.1  ENSMUSG00000092242.1  ...  0.00   0.000000\n",
              "2919  ENSMUST00000136456.1  ENSMUSG00000087674.7  ...  0.00   0.000000\n",
              "\n",
              "[2920 rows x 9 columns]"
            ]
          },
          "metadata": {
            "tags": []
          },
          "execution_count": 11
        }
      ]
    },
    {
      "cell_type": "code",
      "metadata": {
        "id": "4u--pIglr-MH"
      },
      "source": [
        "from scipy.stats import f_oneway"
      ],
      "execution_count": null,
      "outputs": []
    },
    {
      "cell_type": "code",
      "metadata": {
        "id": "1haNX6OIwsk5",
        "colab": {
          "base_uri": "https://localhost:8080/",
          "height": 34
        },
        "outputId": "f71071c0-5732-4b05-fdf7-c60c353ddd43"
      },
      "source": [
        "a = df_cmp['CPM']\n",
        "b = df_gmp['CPM']\n",
        "c = df_hsc['CPM']\n",
        "f_oneway(a,b,c)"
      ],
      "execution_count": null,
      "outputs": [
        {
          "output_type": "execute_result",
          "data": {
            "text/plain": [
              "F_onewayResult(statistic=1.2071118881825092e-31, pvalue=1.0)"
            ]
          },
          "metadata": {
            "tags": []
          },
          "execution_count": 13
        }
      ]
    },
    {
      "cell_type": "code",
      "metadata": {
        "id": "UGXLmwPr_ga8",
        "colab": {
          "base_uri": "https://localhost:8080/",
          "height": 34
        },
        "outputId": "8514bae7-81c6-43ce-bb02-fb3a5a4412ec"
      },
      "source": [
        "a = df_cmp['FPKM']\n",
        "b = df_gmp['FPKM']\n",
        "c = df_hsc['FPKM']\n",
        "f_oneway(a,b,c)"
      ],
      "execution_count": null,
      "outputs": [
        {
          "output_type": "execute_result",
          "data": {
            "text/plain": [
              "F_onewayResult(statistic=0.46190806434536097, pvalue=0.6300956147533936)"
            ]
          },
          "metadata": {
            "tags": []
          },
          "execution_count": 14
        }
      ]
    },
    {
      "cell_type": "code",
      "metadata": {
        "id": "Nixcyq-0BJaF",
        "colab": {
          "base_uri": "https://localhost:8080/",
          "height": 34
        },
        "outputId": "e159185e-4a28-43a7-b88d-dc5ef46a2404"
      },
      "source": [
        "a = df_cmp['TPM']\n",
        "b = df_gmp['TPM']\n",
        "c = df_hsc['TPM']\n",
        "f_oneway(a,b,c)"
      ],
      "execution_count": null,
      "outputs": [
        {
          "output_type": "execute_result",
          "data": {
            "text/plain": [
              "F_onewayResult(statistic=0.36981603984510103, pvalue=0.690872199037061)"
            ]
          },
          "metadata": {
            "tags": []
          },
          "execution_count": 15
        }
      ]
    },
    {
      "cell_type": "code",
      "metadata": {
        "id": "NGz0Io3lBRPN",
        "colab": {
          "base_uri": "https://localhost:8080/",
          "height": 34
        },
        "outputId": "5249595f-e256-4a0e-c53c-358aff48f657"
      },
      "source": [
        "a = df_cmp['expected_count']\n",
        "b = df_gmp['expected_count']\n",
        "c = df_hsc['expected_count']\n",
        "f_oneway(a,b,c)"
      ],
      "execution_count": null,
      "outputs": [
        {
          "output_type": "execute_result",
          "data": {
            "text/plain": [
              "F_onewayResult(statistic=0.13252187535378368, pvalue=0.8758855301681373)"
            ]
          },
          "metadata": {
            "tags": []
          },
          "execution_count": 16
        }
      ]
    },
    {
      "cell_type": "code",
      "metadata": {
        "id": "rIe3ngoYE4T9",
        "colab": {
          "base_uri": "https://localhost:8080/",
          "height": 34
        },
        "outputId": "e720b69e-89e4-4ea8-828c-3b7c52b89d0f"
      },
      "source": [
        "df_cmp['cellType'] = 'Common myeloid progenitor'\n",
        "df_gmp['cellType'] = 'Granulocyte monocyte progenitor'\n",
        "df_hsc['cellType'] = 'Hematopoietic stem cell'\n",
        "\n",
        "allCells = pd.concat([df_cmp, df_gmp, df_hsc])\n",
        "\n",
        "allCells.shape"
      ],
      "execution_count": null,
      "outputs": [
        {
          "output_type": "execute_result",
          "data": {
            "text/plain": [
              "(8760, 10)"
            ]
          },
          "metadata": {
            "tags": []
          },
          "execution_count": 17
        }
      ]
    },
    {
      "cell_type": "code",
      "metadata": {
        "id": "7vpQl67cBnX2",
        "colab": {
          "base_uri": "https://localhost:8080/",
          "height": 386
        },
        "outputId": "2a8f7aa0-67ea-4b06-93b8-8ee6292e9ff1"
      },
      "source": [
        "sns.set()\n",
        "sns.lmplot('effective_length','expected_count', data=allCells, hue='cellType')\n",
        "plt.ylim(0,20000)\n",
        "plt.xlim(0,21000)"
      ],
      "execution_count": null,
      "outputs": [
        {
          "output_type": "execute_result",
          "data": {
            "text/plain": [
              "(0.0, 21000.0)"
            ]
          },
          "metadata": {
            "tags": []
          },
          "execution_count": 18
        },
        {
          "output_type": "display_data",
          "data": {
            "image/png": "[encoded data removed]",
            "text/plain": [
              "<Figure size 587.1x360 with 1 Axes>"
            ]
          },
          "metadata": {
            "tags": []
          }
        }
      ]
    },
    {
      "cell_type": "code",
      "metadata": {
        "id": "OmheuylGaECE",
        "colab": {
          "base_uri": "https://localhost:8080/",
          "height": 34
        },
        "outputId": "8f4bdf0e-f2e0-4c57-e4c7-d0763ba819a4"
      },
      "source": [
        "allCells.TPM.min()"
      ],
      "execution_count": null,
      "outputs": [
        {
          "output_type": "execute_result",
          "data": {
            "text/plain": [
              "0.0"
            ]
          },
          "metadata": {
            "tags": []
          },
          "execution_count": 19
        }
      ]
    },
    {
      "cell_type": "code",
      "metadata": {
        "id": "ymIRe-PtXby0",
        "colab": {
          "base_uri": "https://localhost:8080/",
          "height": 369
        },
        "outputId": "b9671500-72e1-4123-b1d1-7d2ca2234aa4"
      },
      "source": [
        "\n",
        "sns.set()\n",
        "sns.lmplot('effective_length','CPM', data=allCells, hue='cellType')\n",
        "plt.ylim(0,40000)\n",
        "plt.xlim(0,21000)\n",
        "plt.xlabel(\"Effective Length\")\n",
        "plt.text(12000,38000, \"p-val = 1.00\")\n",
        "plt.legend().remove()"
      ],
      "execution_count": null,
      "outputs": [
        {
          "output_type": "display_data",
          "data": {
            "image/png": "[encoded data removed]",
            "text/plain": [
              "<Figure size 587.1x360 with 1 Axes>"
            ]
          },
          "metadata": {
            "tags": []
          }
        }
      ]
    },
    {
      "cell_type": "code",
      "metadata": {
        "id": "j4BZ5t0yZSeP",
        "colab": {
          "base_uri": "https://localhost:8080/",
          "height": 386
        },
        "outputId": "04dc1a7a-d56f-4566-94f5-963fa956ecdf"
      },
      "source": [
        "sns.set()\n",
        "sns.lmplot('effective_length','TPM', data=allCells, hue='cellType')\n",
        "plt.ylim(0,80)\n",
        "plt.xlim(0,21000)\n",
        "plt.text(12000,75, \"p-val = 0.69\")\n",
        "plt.xlabel(\"Effective Length\")"
      ],
      "execution_count": null,
      "outputs": [
        {
          "output_type": "execute_result",
          "data": {
            "text/plain": [
              "Text(0.5, 25.96, 'Effective Length')"
            ]
          },
          "metadata": {
            "tags": []
          },
          "execution_count": 56
        },
        {
          "output_type": "display_data",
          "data": {
            "image/png": "[encoded data removed]",
            "text/plain": [
              "<Figure size 587.1x360 with 1 Axes>"
            ]
          },
          "metadata": {
            "tags": []
          }
        }
      ]
    },
    {
      "cell_type": "code",
      "metadata": {
        "id": "7bcw_rzDZSW4",
        "colab": {
          "base_uri": "https://localhost:8080/",
          "height": 386
        },
        "outputId": "b05102b4-1762-4e3b-a4c2-658d9c302b35"
      },
      "source": [
        "\n",
        "sns.set()\n",
        "sns.lmplot('effective_length','FPKM', data=allCells, hue='cellType')\n",
        "plt.ylim(0,500)\n",
        "plt.xlim(0,21000)\n",
        "plt.xlabel(\"Effective Length\")\n",
        "plt.text(12000,450, \"p-val = 0.63\")"
      ],
      "execution_count": null,
      "outputs": [
        {
          "output_type": "execute_result",
          "data": {
            "text/plain": [
              "Text(12000, 450, 'p-val = 0.63')"
            ]
          },
          "metadata": {
            "tags": []
          },
          "execution_count": 63
        },
        {
          "output_type": "display_data",
          "data": {
            "image/png": "[encoded data removed]",
            "text/plain": [
              "<Figure size 587.1x360 with 1 Axes>"
            ]
          },
          "metadata": {
            "tags": []
          }
        }
      ]
    },
    {
      "cell_type": "code",
      "metadata": {
        "id": "yqLU8rDqDErs",
        "colab": {
          "base_uri": "https://localhost:8080/",
          "height": 356
        },
        "outputId": "9548d93c-f1ce-4e83-e4d7-6ee21813f471"
      },
      "source": [
        "allCells['logCPM'] = np.log10(allCells.CPM)\n",
        "data = pd.melt(allCells[['TPM','FPKM','logCPM','cellType']], \"cellType\", var_name=\"measurement\")\n",
        "\n",
        "sns.stripplot(x=\"value\", y=\"measurement\", hue=\"cellType\",\n",
        "              data=data, dodge=True, alpha=.5, zorder=1)\n",
        "\n",
        "plt.xlim(0,10)\n",
        "plt.legend([\"CMP\", \"GMP\", \"HSC\"])"
      ],
      "execution_count": null,
      "outputs": [
        {
          "output_type": "stream",
          "text": [
            "/usr/local/lib/python3.6/dist-packages/pandas/core/series.py:679: RuntimeWarning: divide by zero encountered in log10\n",
            "  result = getattr(ufunc, method)(*inputs, **kwargs)\n"
          ],
          "name": "stderr"
        },
        {
          "output_type": "execute_result",
          "data": {
            "text/plain": [
              "<matplotlib.legend.Legend at 0x7f0c57f2abe0>"
            ]
          },
          "metadata": {
            "tags": []
          },
          "execution_count": 54
        },
        {
          "output_type": "display_data",
          "data": {
            "image/png": "[encoded data removed]",
            "text/plain": [
              "<Figure size 432x288 with 1 Axes>"
            ]
          },
          "metadata": {
            "tags": []
          }
        }
      ]
    },
    {
      "cell_type": "code",
      "metadata": {
        "id": "HIp-kFZAQAC_",
        "colab": {
          "base_uri": "https://localhost:8080/",
          "height": 235
        },
        "outputId": "ebf0aa98-4cdf-4b18-9d20-14dcc55b114f"
      },
      "source": [
        "forPCA = allCells[['CPM','TPM','FPKM']]\n",
        "forPCA.sample(6)"
      ],
      "execution_count": null,
      "outputs": [
        {
          "output_type": "execute_result",
          "data": {
            "text/html": [
              "<div>\n",
              "<style scoped>\n",
              "    .dataframe tbody tr th:only-of-type {\n",
              "        vertical-align: middle;\n",
              "    }\n",
              "\n",
              "    .dataframe tbody tr th {\n",
              "        vertical-align: top;\n",
              "    }\n",
              "\n",
              "    .dataframe thead th {\n",
              "        text-align: right;\n",
              "    }\n",
              "</style>\n",
              "<table border=\"1\" class=\"dataframe\">\n",
              "  <thead>\n",
              "    <tr style=\"text-align: right;\">\n",
              "      <th></th>\n",
              "      <th>CPM</th>\n",
              "      <th>TPM</th>\n",
              "      <th>FPKM</th>\n",
              "    </tr>\n",
              "  </thead>\n",
              "  <tbody>\n",
              "    <tr>\n",
              "      <th>593</th>\n",
              "      <td>0.0</td>\n",
              "      <td>0.0</td>\n",
              "      <td>0.0</td>\n",
              "    </tr>\n",
              "    <tr>\n",
              "      <th>2032</th>\n",
              "      <td>0.0</td>\n",
              "      <td>0.0</td>\n",
              "      <td>0.0</td>\n",
              "    </tr>\n",
              "    <tr>\n",
              "      <th>2221</th>\n",
              "      <td>0.0</td>\n",
              "      <td>0.0</td>\n",
              "      <td>0.0</td>\n",
              "    </tr>\n",
              "    <tr>\n",
              "      <th>1046</th>\n",
              "      <td>0.0</td>\n",
              "      <td>0.0</td>\n",
              "      <td>0.0</td>\n",
              "    </tr>\n",
              "    <tr>\n",
              "      <th>1251</th>\n",
              "      <td>0.0</td>\n",
              "      <td>0.0</td>\n",
              "      <td>0.0</td>\n",
              "    </tr>\n",
              "    <tr>\n",
              "      <th>1998</th>\n",
              "      <td>0.0</td>\n",
              "      <td>0.0</td>\n",
              "      <td>0.0</td>\n",
              "    </tr>\n",
              "  </tbody>\n",
              "</table>\n",
              "</div>"
            ],
            "text/plain": [
              "      CPM  TPM  FPKM\n",
              "593   0.0  0.0   0.0\n",
              "2032  0.0  0.0   0.0\n",
              "2221  0.0  0.0   0.0\n",
              "1046  0.0  0.0   0.0\n",
              "1251  0.0  0.0   0.0\n",
              "1998  0.0  0.0   0.0"
            ]
          },
          "metadata": {
            "tags": []
          },
          "execution_count": 24
        }
      ]
    },
    {
      "cell_type": "code",
      "metadata": {
        "id": "pgI_NyNpRyRX"
      },
      "source": [
        "from sklearn import decomposition"
      ],
      "execution_count": null,
      "outputs": []
    },
    {
      "cell_type": "code",
      "metadata": {
        "id": "C2Yb5KU5kwiw"
      },
      "source": [
        "pca = decomposition.PCA(n_components=3)"
      ],
      "execution_count": null,
      "outputs": []
    },
    {
      "cell_type": "code",
      "metadata": {
        "id": "oJsnt4swl24M"
      },
      "source": [
        "pc = pca.fit_transform(forPCA)"
      ],
      "execution_count": null,
      "outputs": []
    },
    {
      "cell_type": "code",
      "metadata": {
        "id": "qaoJWbdOl9Vc"
      },
      "source": [
        "pc_df = pd.DataFrame(data = forPCA,  \n",
        "                     columns = ['PC1', 'PC2'])\n",
        "\n",
        "pc_df['Cell Type'] = allCells['cellType']"
      ],
      "execution_count": null,
      "outputs": []
    },
    {
      "cell_type": "code",
      "metadata": {
        "id": "h5hrwrGXn-m3",
        "colab": {
          "base_uri": "https://localhost:8080/",
          "height": 359
        },
        "outputId": "6c70d278-3d82-4259-c06c-83c6f7a9fc78"
      },
      "source": [
        "pc_df.sample(10)"
      ],
      "execution_count": null,
      "outputs": [
        {
          "output_type": "execute_result",
          "data": {
            "text/html": [
              "<div>\n",
              "<style scoped>\n",
              "    .dataframe tbody tr th:only-of-type {\n",
              "        vertical-align: middle;\n",
              "    }\n",
              "\n",
              "    .dataframe tbody tr th {\n",
              "        vertical-align: top;\n",
              "    }\n",
              "\n",
              "    .dataframe thead th {\n",
              "        text-align: right;\n",
              "    }\n",
              "</style>\n",
              "<table border=\"1\" class=\"dataframe\">\n",
              "  <thead>\n",
              "    <tr style=\"text-align: right;\">\n",
              "      <th></th>\n",
              "      <th>PC1</th>\n",
              "      <th>PC2</th>\n",
              "      <th>Cell Type</th>\n",
              "    </tr>\n",
              "  </thead>\n",
              "  <tbody>\n",
              "    <tr>\n",
              "      <th>2530</th>\n",
              "      <td>NaN</td>\n",
              "      <td>NaN</td>\n",
              "      <td>Common myeloid progenitor</td>\n",
              "    </tr>\n",
              "    <tr>\n",
              "      <th>1130</th>\n",
              "      <td>NaN</td>\n",
              "      <td>NaN</td>\n",
              "      <td>Hematopoietic stem cell</td>\n",
              "    </tr>\n",
              "    <tr>\n",
              "      <th>2025</th>\n",
              "      <td>NaN</td>\n",
              "      <td>NaN</td>\n",
              "      <td>Granulocyte monocyte progenitor</td>\n",
              "    </tr>\n",
              "    <tr>\n",
              "      <th>1955</th>\n",
              "      <td>NaN</td>\n",
              "      <td>NaN</td>\n",
              "      <td>Common myeloid progenitor</td>\n",
              "    </tr>\n",
              "    <tr>\n",
              "      <th>2647</th>\n",
              "      <td>NaN</td>\n",
              "      <td>NaN</td>\n",
              "      <td>Hematopoietic stem cell</td>\n",
              "    </tr>\n",
              "    <tr>\n",
              "      <th>2633</th>\n",
              "      <td>NaN</td>\n",
              "      <td>NaN</td>\n",
              "      <td>Common myeloid progenitor</td>\n",
              "    </tr>\n",
              "    <tr>\n",
              "      <th>363</th>\n",
              "      <td>NaN</td>\n",
              "      <td>NaN</td>\n",
              "      <td>Common myeloid progenitor</td>\n",
              "    </tr>\n",
              "    <tr>\n",
              "      <th>1080</th>\n",
              "      <td>NaN</td>\n",
              "      <td>NaN</td>\n",
              "      <td>Granulocyte monocyte progenitor</td>\n",
              "    </tr>\n",
              "    <tr>\n",
              "      <th>1876</th>\n",
              "      <td>NaN</td>\n",
              "      <td>NaN</td>\n",
              "      <td>Hematopoietic stem cell</td>\n",
              "    </tr>\n",
              "    <tr>\n",
              "      <th>0</th>\n",
              "      <td>NaN</td>\n",
              "      <td>NaN</td>\n",
              "      <td>Common myeloid progenitor</td>\n",
              "    </tr>\n",
              "  </tbody>\n",
              "</table>\n",
              "</div>"
            ],
            "text/plain": [
              "      PC1  PC2                        Cell Type\n",
              "2530  NaN  NaN        Common myeloid progenitor\n",
              "1130  NaN  NaN          Hematopoietic stem cell\n",
              "2025  NaN  NaN  Granulocyte monocyte progenitor\n",
              "1955  NaN  NaN        Common myeloid progenitor\n",
              "2647  NaN  NaN          Hematopoietic stem cell\n",
              "2633  NaN  NaN        Common myeloid progenitor\n",
              "363   NaN  NaN        Common myeloid progenitor\n",
              "1080  NaN  NaN  Granulocyte monocyte progenitor\n",
              "1876  NaN  NaN          Hematopoietic stem cell\n",
              "0     NaN  NaN        Common myeloid progenitor"
            ]
          },
          "metadata": {
            "tags": []
          },
          "execution_count": 29
        }
      ]
    },
    {
      "cell_type": "code",
      "metadata": {
        "id": "au5tu7IpnF3H",
        "colab": {
          "base_uri": "https://localhost:8080/",
          "height": 34
        },
        "outputId": "93228ce3-95b4-4dd5-8887-500021d7625a"
      },
      "source": [
        "pca.explained_variance_ratio_"
      ],
      "execution_count": null,
      "outputs": [
        {
          "output_type": "execute_result",
          "data": {
            "text/plain": [
              "array([9.99997154e-01, 2.84469139e-06, 1.54592010e-09])"
            ]
          },
          "metadata": {
            "tags": []
          },
          "execution_count": 30
        }
      ]
    },
    {
      "cell_type": "code",
      "metadata": {
        "id": "D3zzh8v5nJYP",
        "colab": {
          "base_uri": "https://localhost:8080/",
          "height": 382
        },
        "outputId": "67d1027c-b254-4778-fcf8-250887e26a8f"
      },
      "source": [
        "sns.lmplot( x=\"PC1\", y=\"PC2\",\n",
        "  data=pc_df, \n",
        "  fit_reg=False, \n",
        "  hue='Cell Type', # color by cluster\n",
        "  legend=True,\n",
        "  scatter_kws={\"s\": 80})"
      ],
      "execution_count": null,
      "outputs": [
        {
          "output_type": "execute_result",
          "data": {
            "text/plain": [
              "<seaborn.axisgrid.FacetGrid at 0x7f0c60b696d8>"
            ]
          },
          "metadata": {
            "tags": []
          },
          "execution_count": 31
        },
        {
          "output_type": "display_data",
          "data": {
            "image/png": "[encoded data removed]",
            "text/plain": [
              "<Figure size 587.1x360 with 1 Axes>"
            ]
          },
          "metadata": {
            "tags": []
          }
        }
      ]
    },
    {
      "cell_type": "markdown",
      "metadata": {
        "id": "-1hKgQgCg5VH"
      },
      "source": [
        "# Jenson Shannon"
      ]
    },
    {
      "cell_type": "code",
      "metadata": {
        "id": "MOY0-tvBg4nh"
      },
      "source": [
        "from scipy.spatial import distance"
      ],
      "execution_count": null,
      "outputs": []
    },
    {
      "cell_type": "code",
      "metadata": {
        "id": "jNHeDc_Ag4NB",
        "colab": {
          "base_uri": "https://localhost:8080/",
          "height": 68
        },
        "outputId": "d571d21f-6cfa-4780-c16c-672349a47646"
      },
      "source": [
        "a = df_cmp['CPM']\n",
        "b = df_gmp['CPM']\n",
        "c = df_hsc['CPM']\n",
        "\n",
        "\n",
        "print(distance.jensenshannon(a,b))\n",
        "print(distance.jensenshannon(a,c))\n",
        "print(distance.jensenshannon(c,b))"
      ],
      "execution_count": null,
      "outputs": [
        {
          "output_type": "stream",
          "text": [
            "0.14643372821125816\n",
            "0.13724066941733942\n",
            "0.14325473107522138\n"
          ],
          "name": "stdout"
        }
      ]
    },
    {
      "cell_type": "code",
      "metadata": {
        "id": "JQ6CCjMpi4OT"
      },
      "source": [
        ""
      ],
      "execution_count": null,
      "outputs": []
    }
  ]
}